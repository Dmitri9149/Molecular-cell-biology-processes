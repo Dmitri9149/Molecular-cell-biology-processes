{
  "nbformat": 4,
  "nbformat_minor": 0,
  "metadata": {
    "colab": {
      "name": "some_models_v1.ipynb",
      "provenance": [],
      "collapsed_sections": [],
      "authorship_tag": "ABX9TyNIeWsDmbMEx9ggmX3naI5s",
      "include_colab_link": true
    },
    "kernelspec": {
      "name": "python3",
      "display_name": "Python 3"
    }
  },
  "cells": [
    {
      "cell_type": "markdown",
      "metadata": {
        "id": "view-in-github",
        "colab_type": "text"
      },
      "source": [
        "<a href=\"https://colab.research.google.com/github/Dmitri9149/Molecular-cell-biology-processes/blob/add-license-1/some_models_v1.ipynb\" target=\"_parent\"><img src=\"https://colab.research.google.com/assets/colab-badge.svg\" alt=\"Open In Colab\"/></a>"
      ]
    },
    {
      "cell_type": "markdown",
      "metadata": {
        "id": "b-_GhwkHT5MC"
      },
      "source": [
        "Some of my recent models in data analysis:\n",
        "\n",
        "### House price prediction, linear regression.   \n",
        "Kaggle competition: House Prices: Advanced Regression Techniques\n",
        "Predict sales prices and practice feature engineering, RFs, and gradient boosting  \n",
        "\n",
        "https://www.kaggle.com/dmitri9149/kernel57e3bc7f2f\n",
        "\n",
        "### Digit recognition: \n",
        "Kaggle competition:\n",
        "Digit Recognizer\n",
        "Learn computer vision fundamentals with the famous MNIST data:  \n",
        "https://www.kaggle.com/dmitri9149/pytorch-simple-model-s-from-scratch-v1\n",
        "\n",
        "### Natural Language processing:    \n",
        "\n",
        "https://www.kaggle.com/dmitri9149/transformer-svm-semantically-identical-tweets  \n",
        "\n",
        "https://www.kaggle.com/dmitri9149/multilingual-encoder-support-vector-machine  \n",
        "\n",
        "https://www.kaggle.com/dmitri9149/transformer-simple-baseline-model-s  \n",
        "\n",
        "Kaggle competition:Tweet Sentiment Extraction;\n",
        "Extract support phrases for sentiment label\n",
        "https://www.kaggle.com/dmitri9149/tweet-sentiment-extraction-word-counts-only  \n",
        "\n",
        "https://www.kaggle.com/dmitri9149/tweet-sentiment-roberta-and-pytorch  \n",
        "\n",
        "### Machine Translation, Transformers  \n",
        "https://github.com/Dmitri9149/Transformer_From_Scratch\n",
        "\n",
        "\n",
        "\n",
        "\n",
        "\n",
        "\n",
        "### COVID-19  \n",
        "Kaggle competition: COVID19 Global Forecasting (Week 4)  \n",
        "\n",
        "https://www.kaggle.com/dmitri9149/kernel17c4d0094e-sarima  \n",
        "\n",
        "https://www.kaggle.com/dmitri9149/kernel6e5cd78771-logistic  \n",
        "\n",
        "March 2020 analysis of the situation: \"Coronavirus, Influenza, Stress\"  \n",
        "https://www.kaggle.com/dmitri9149/coronavirus-influenza-stress-v0 \n",
        "\n",
        "### Molecular Cell Biology: Name spaces, Lymphocyte circulation \n",
        "https://github.com/Dmitri9149/Molecular-cell-biology-processes/blob/main/Name_Spaces.ipynb\n"
      ]
    }
  ]
}